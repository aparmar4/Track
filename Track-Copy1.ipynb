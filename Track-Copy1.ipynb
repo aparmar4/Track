{
 "cells": [
  {
   "cell_type": "markdown",
   "metadata": {},
   "source": [
    "# Load CSV"
   ]
  },
  {
   "cell_type": "code",
   "execution_count": 1,
   "metadata": {
    "collapsed": true
   },
   "outputs": [],
   "source": [
    "from os import path\n",
    "fname = path.expanduser(r\"C:\\Users\\abhishek\\Desktop\\Study Material\\DataScienceFoundationsPython_LinkedIn\\Ex_Files_Data_Science_Python\\Exercise Files\\Ch04\\track.csv\")"
   ]
  },
  {
   "cell_type": "code",
   "execution_count": 2,
   "metadata": {},
   "outputs": [
    {
     "name": "stdout",
     "output_type": "stream",
     "text": [
      "c:\\path\to\n",
      "owhere.csv\n"
     ]
    }
   ],
   "source": [
    "print('c:\\path\\to\\nowhere.csv') #### backslashes has a special meaning in Python strings \\n --- new line character"
   ]
  },
  {
   "cell_type": "code",
   "execution_count": 3,
   "metadata": {},
   "outputs": [
    {
     "name": "stdout",
     "output_type": "stream",
     "text": [
      "c:\\path\\to\\nowhere.csv\n"
     ]
    }
   ],
   "source": [
    "print(r'c:\\path\\to\\nowhere.csv') ### EASY solution ### r ---- these are called raw strings"
   ]
  },
  {
   "cell_type": "code",
   "execution_count": 4,
   "metadata": {},
   "outputs": [
    {
     "data": {
      "text/plain": [
       "43844"
      ]
     },
     "execution_count": 4,
     "metadata": {},
     "output_type": "execute_result"
    }
   ],
   "source": [
    "# get the size of the file\n",
    "\n",
    "path.getsize(fname) ###-------- this is in bytes and we want to see in KBs"
   ]
  },
  {
   "cell_type": "code",
   "execution_count": 5,
   "metadata": {},
   "outputs": [
    {
     "data": {
      "text/plain": [
       "42.81640625"
      ]
     },
     "execution_count": 5,
     "metadata": {},
     "output_type": "execute_result"
    }
   ],
   "source": [
    "path.getsize(fname) / (1<<10) \n",
    "\n",
    "####  So we can do path.getsize of fname divided by one shifted to 10. \n",
    "##The smallest smaller than operator is the left chip operator. Basically two raised to the power of 10. "
   ]
  },
  {
   "cell_type": "code",
   "execution_count": 6,
   "metadata": {},
   "outputs": [
    {
     "name": "stdout",
     "output_type": "stream",
     "text": [
      "time,lat,lng,height\n",
      "2015-08-20 03:48:07.235,35.015021,32.519585,136.1999969482422\n",
      "2015-08-20 03:48:24.734,35.014954,32.519606,126.5999984741211\n",
      "2015-08-20 03:48:25.660,35.014871,32.519612,123.0\n",
      "2015-08-20 03:48:26.819,35.014824,32.519654,120.5\n",
      "2015-08-20 03:48:27.828,35.014776,32.519689,118.9000015258789\n",
      "2015-08-20 03:48:29.720,35.014704,32.519691,119.9000015258789\n",
      "2015-08-20 03:48:30.669,35.014657,32.519734,120.9000015258789\n",
      "2015-08-20 03:48:33.793,35.014563,32.519719,121.69999694824219\n",
      "2015-08-20 03:48:34.869,35.014549,32.519694,121.19999694824219\n",
      "2015-08-20 03:48:37.708,35.014515,32.519625,121.69999694824219\n"
     ]
    }
   ],
   "source": [
    "with open (fname) as fp:\n",
    "    for lnum, line in enumerate(fp):\n",
    "        if lnum > 10: # If the line number is more than 10, we'll stop.  \n",
    "            break\n",
    "        print (line[:-1]) # Otherwise we'll print the line without the new line at the end.\n",
    "        \n",
    "# It's a good habit to open file with a with statement. So to make sure that they are closed once we're done with them."
   ]
  },
  {
   "cell_type": "markdown",
   "metadata": {},
   "source": [
    "### CSV is not the best format to store your data since it doesn't store type information, and can be difficult to get right with textual data."
   ]
  },
  {
   "cell_type": "code",
   "execution_count": 7,
   "metadata": {},
   "outputs": [
    {
     "name": "stdout",
     "output_type": "stream",
     "text": [
      "741\n"
     ]
    }
   ],
   "source": [
    "with open (fname) as fp:\n",
    "    print (sum( 1 for line in  fp))\n",
    "    "
   ]
  },
  {
   "cell_type": "code",
   "execution_count": 8,
   "metadata": {
    "collapsed": true
   },
   "outputs": [],
   "source": [
    "import pandas as pd"
   ]
  },
  {
   "cell_type": "code",
   "execution_count": 9,
   "metadata": {
    "collapsed": true
   },
   "outputs": [],
   "source": [
    "df = pd.read_csv(fname)"
   ]
  },
  {
   "cell_type": "code",
   "execution_count": 10,
   "metadata": {},
   "outputs": [
    {
     "data": {
      "text/plain": [
       "740"
      ]
     },
     "execution_count": 10,
     "metadata": {},
     "output_type": "execute_result"
    }
   ],
   "source": [
    "len(df)"
   ]
  },
  {
   "cell_type": "code",
   "execution_count": 11,
   "metadata": {},
   "outputs": [
    {
     "data": {
      "text/plain": [
       "Index(['time', 'lat', 'lng', 'height'], dtype='object')"
      ]
     },
     "execution_count": 11,
     "metadata": {},
     "output_type": "execute_result"
    }
   ],
   "source": [
    "df.columns"
   ]
  },
  {
   "cell_type": "code",
   "execution_count": 12,
   "metadata": {},
   "outputs": [
    {
     "name": "stdout",
     "output_type": "stream",
     "text": [
      "<class 'pandas.core.frame.DataFrame'>\n",
      "RangeIndex: 740 entries, 0 to 739\n",
      "Data columns (total 4 columns):\n",
      "time      740 non-null object\n",
      "lat       740 non-null float64\n",
      "lng       740 non-null float64\n",
      "height    740 non-null float64\n",
      "dtypes: float64(3), object(1)\n",
      "memory usage: 23.2+ KB\n"
     ]
    }
   ],
   "source": [
    "df.info()"
   ]
  },
  {
   "cell_type": "code",
   "execution_count": 13,
   "metadata": {},
   "outputs": [
    {
     "data": {
      "text/html": [
       "<div>\n",
       "<style>\n",
       "    .dataframe thead tr:only-child th {\n",
       "        text-align: right;\n",
       "    }\n",
       "\n",
       "    .dataframe thead th {\n",
       "        text-align: left;\n",
       "    }\n",
       "\n",
       "    .dataframe tbody tr th {\n",
       "        vertical-align: top;\n",
       "    }\n",
       "</style>\n",
       "<table border=\"1\" class=\"dataframe\">\n",
       "  <thead>\n",
       "    <tr style=\"text-align: right;\">\n",
       "      <th></th>\n",
       "      <th>time</th>\n",
       "      <th>lat</th>\n",
       "      <th>lng</th>\n",
       "      <th>height</th>\n",
       "    </tr>\n",
       "  </thead>\n",
       "  <tbody>\n",
       "    <tr>\n",
       "      <th>0</th>\n",
       "      <td>2015-08-20 03:48:07.235</td>\n",
       "      <td>35.015021</td>\n",
       "      <td>32.519585</td>\n",
       "      <td>136.199997</td>\n",
       "    </tr>\n",
       "    <tr>\n",
       "      <th>1</th>\n",
       "      <td>2015-08-20 03:48:24.734</td>\n",
       "      <td>35.014954</td>\n",
       "      <td>32.519606</td>\n",
       "      <td>126.599998</td>\n",
       "    </tr>\n",
       "    <tr>\n",
       "      <th>2</th>\n",
       "      <td>2015-08-20 03:48:25.660</td>\n",
       "      <td>35.014871</td>\n",
       "      <td>32.519612</td>\n",
       "      <td>123.000000</td>\n",
       "    </tr>\n",
       "    <tr>\n",
       "      <th>3</th>\n",
       "      <td>2015-08-20 03:48:26.819</td>\n",
       "      <td>35.014824</td>\n",
       "      <td>32.519654</td>\n",
       "      <td>120.500000</td>\n",
       "    </tr>\n",
       "    <tr>\n",
       "      <th>4</th>\n",
       "      <td>2015-08-20 03:48:27.828</td>\n",
       "      <td>35.014776</td>\n",
       "      <td>32.519689</td>\n",
       "      <td>118.900002</td>\n",
       "    </tr>\n",
       "  </tbody>\n",
       "</table>\n",
       "</div>"
      ],
      "text/plain": [
       "                      time        lat        lng      height\n",
       "0  2015-08-20 03:48:07.235  35.015021  32.519585  136.199997\n",
       "1  2015-08-20 03:48:24.734  35.014954  32.519606  126.599998\n",
       "2  2015-08-20 03:48:25.660  35.014871  32.519612  123.000000\n",
       "3  2015-08-20 03:48:26.819  35.014824  32.519654  120.500000\n",
       "4  2015-08-20 03:48:27.828  35.014776  32.519689  118.900002"
      ]
     },
     "execution_count": 13,
     "metadata": {},
     "output_type": "execute_result"
    }
   ],
   "source": [
    "df.head()"
   ]
  },
  {
   "cell_type": "markdown",
   "metadata": {},
   "source": [
    "# Parse time"
   ]
  },
  {
   "cell_type": "code",
   "execution_count": 14,
   "metadata": {},
   "outputs": [
    {
     "data": {
      "text/plain": [
       "time       object\n",
       "lat       float64\n",
       "lng       float64\n",
       "height    float64\n",
       "dtype: object"
      ]
     },
     "execution_count": 14,
     "metadata": {},
     "output_type": "execute_result"
    }
   ],
   "source": [
    "df.dtypes"
   ]
  },
  {
   "cell_type": "markdown",
   "metadata": {},
   "source": [
    "### Coordinates are float but time is an object which usually means string in pandas.In some cases it's okay for data to be a string, but in our case, we expect some time type since these don't have type information embedded in them, unlike JSON for example, which means that everything comes out as a string.\n",
    "\n",
    "### Pandas does a fairly good job at guessing types, but here it needs our help to parse time."
   ]
  },
  {
   "cell_type": "markdown",
   "metadata": {},
   "source": [
    "### There are many ways to write time as a string. Pandas parsers know most of the common formats. If you need to write time as a string, use a known format, such as RFC 3339. Also, pick a format without spaces in it and have the year first, so sorting time as a string will work as intended. \n",
    "\n",
    "###  Let's take a quick look at read csv recommendation. We see there are many options available to use. One of them is parse dates. Which parses a list of columns to be parsed as time or date. This is also where our initial look at data comes in handy. We know before loading which columns we'd like to parse as time."
   ]
  },
  {
   "cell_type": "code",
   "execution_count": 15,
   "metadata": {
    "collapsed": true
   },
   "outputs": [],
   "source": [
    "df = pd.read_csv(fname, parse_dates=['time'])"
   ]
  },
  {
   "cell_type": "code",
   "execution_count": 16,
   "metadata": {},
   "outputs": [
    {
     "data": {
      "text/plain": [
       "time      datetime64[ns]\n",
       "lat              float64\n",
       "lng              float64\n",
       "height           float64\n",
       "dtype: object"
      ]
     },
     "execution_count": 16,
     "metadata": {},
     "output_type": "execute_result"
    }
   ],
   "source": [
    "df.dtypes"
   ]
  },
  {
   "cell_type": "markdown",
   "metadata": {},
   "source": [
    "# Access Rows or Columns"
   ]
  },
  {
   "cell_type": "code",
   "execution_count": 17,
   "metadata": {},
   "outputs": [
    {
     "data": {
      "text/plain": [
       "0    35.015021\n",
       "1    35.014954\n",
       "2    35.014871\n",
       "3    35.014824\n",
       "4    35.014776\n",
       "Name: lat, dtype: float64"
      ]
     },
     "execution_count": 17,
     "metadata": {},
     "output_type": "execute_result"
    }
   ],
   "source": [
    "df['lat'].head()"
   ]
  },
  {
   "cell_type": "code",
   "execution_count": 18,
   "metadata": {},
   "outputs": [
    {
     "data": {
      "text/plain": [
       "0    35.015021\n",
       "1    35.014954\n",
       "2    35.014871\n",
       "3    35.014824\n",
       "4    35.014776\n",
       "Name: lat, dtype: float64"
      ]
     },
     "execution_count": 18,
     "metadata": {},
     "output_type": "execute_result"
    }
   ],
   "source": [
    "df.lat.head() "
   ]
  },
  {
   "cell_type": "markdown",
   "metadata": {},
   "source": [
    "### You can also write df.lat. But I don't recommend using dot notation. In some cases the column names have spaces in them and then you can't use dot notation anyway. So get in the habit of using square brackets, which always work. "
   ]
  },
  {
   "cell_type": "code",
   "execution_count": 19,
   "metadata": {},
   "outputs": [
    {
     "data": {
      "text/html": [
       "<div>\n",
       "<style>\n",
       "    .dataframe thead tr:only-child th {\n",
       "        text-align: right;\n",
       "    }\n",
       "\n",
       "    .dataframe thead th {\n",
       "        text-align: left;\n",
       "    }\n",
       "\n",
       "    .dataframe tbody tr th {\n",
       "        vertical-align: top;\n",
       "    }\n",
       "</style>\n",
       "<table border=\"1\" class=\"dataframe\">\n",
       "  <thead>\n",
       "    <tr style=\"text-align: right;\">\n",
       "      <th></th>\n",
       "      <th>lat</th>\n",
       "      <th>lng</th>\n",
       "    </tr>\n",
       "  </thead>\n",
       "  <tbody>\n",
       "    <tr>\n",
       "      <th>0</th>\n",
       "      <td>35.015021</td>\n",
       "      <td>32.519585</td>\n",
       "    </tr>\n",
       "    <tr>\n",
       "      <th>1</th>\n",
       "      <td>35.014954</td>\n",
       "      <td>32.519606</td>\n",
       "    </tr>\n",
       "    <tr>\n",
       "      <th>2</th>\n",
       "      <td>35.014871</td>\n",
       "      <td>32.519612</td>\n",
       "    </tr>\n",
       "    <tr>\n",
       "      <th>3</th>\n",
       "      <td>35.014824</td>\n",
       "      <td>32.519654</td>\n",
       "    </tr>\n",
       "    <tr>\n",
       "      <th>4</th>\n",
       "      <td>35.014776</td>\n",
       "      <td>32.519689</td>\n",
       "    </tr>\n",
       "  </tbody>\n",
       "</table>\n",
       "</div>"
      ],
      "text/plain": [
       "         lat        lng\n",
       "0  35.015021  32.519585\n",
       "1  35.014954  32.519606\n",
       "2  35.014871  32.519612\n",
       "3  35.014824  32.519654\n",
       "4  35.014776  32.519689"
      ]
     },
     "execution_count": 19,
     "metadata": {},
     "output_type": "execute_result"
    }
   ],
   "source": [
    "df[['lat', 'lng']].head()"
   ]
  },
  {
   "cell_type": "code",
   "execution_count": 20,
   "metadata": {},
   "outputs": [
    {
     "data": {
      "text/plain": [
       "35.015021000000004"
      ]
     },
     "execution_count": 20,
     "metadata": {},
     "output_type": "execute_result"
    }
   ],
   "source": [
    "df['lat'][0]"
   ]
  },
  {
   "cell_type": "code",
   "execution_count": 21,
   "metadata": {},
   "outputs": [
    {
     "data": {
      "text/html": [
       "<div>\n",
       "<style>\n",
       "    .dataframe thead tr:only-child th {\n",
       "        text-align: right;\n",
       "    }\n",
       "\n",
       "    .dataframe thead th {\n",
       "        text-align: left;\n",
       "    }\n",
       "\n",
       "    .dataframe tbody tr th {\n",
       "        vertical-align: top;\n",
       "    }\n",
       "</style>\n",
       "<table border=\"1\" class=\"dataframe\">\n",
       "  <thead>\n",
       "    <tr style=\"text-align: right;\">\n",
       "      <th></th>\n",
       "      <th>lat</th>\n",
       "      <th>lng</th>\n",
       "    </tr>\n",
       "  </thead>\n",
       "  <tbody>\n",
       "    <tr>\n",
       "      <th>0</th>\n",
       "      <td>35.015021</td>\n",
       "      <td>32.519585</td>\n",
       "    </tr>\n",
       "    <tr>\n",
       "      <th>1</th>\n",
       "      <td>35.014954</td>\n",
       "      <td>32.519606</td>\n",
       "    </tr>\n",
       "    <tr>\n",
       "      <th>2</th>\n",
       "      <td>35.014871</td>\n",
       "      <td>32.519612</td>\n",
       "    </tr>\n",
       "    <tr>\n",
       "      <th>3</th>\n",
       "      <td>35.014824</td>\n",
       "      <td>32.519654</td>\n",
       "    </tr>\n",
       "    <tr>\n",
       "      <th>4</th>\n",
       "      <td>35.014776</td>\n",
       "      <td>32.519689</td>\n",
       "    </tr>\n",
       "  </tbody>\n",
       "</table>\n",
       "</div>"
      ],
      "text/plain": [
       "         lat        lng\n",
       "0  35.015021  32.519585\n",
       "1  35.014954  32.519606\n",
       "2  35.014871  32.519612\n",
       "3  35.014824  32.519654\n",
       "4  35.014776  32.519689"
      ]
     },
     "execution_count": 21,
     "metadata": {},
     "output_type": "execute_result"
    }
   ],
   "source": [
    "df[['lat', 'lng']][0:5]"
   ]
  },
  {
   "cell_type": "code",
   "execution_count": 22,
   "metadata": {},
   "outputs": [
    {
     "data": {
      "text/plain": [
       "time      2015-08-20 03:48:07.235000\n",
       "lat                           35.015\n",
       "lng                          32.5196\n",
       "height                         136.2\n",
       "Name: 0, dtype: object"
      ]
     },
     "execution_count": 22,
     "metadata": {},
     "output_type": "execute_result"
    }
   ],
   "source": [
    "df.loc[0]"
   ]
  },
  {
   "cell_type": "code",
   "execution_count": 23,
   "metadata": {},
   "outputs": [
    {
     "data": {
      "text/html": [
       "<div>\n",
       "<style>\n",
       "    .dataframe thead tr:only-child th {\n",
       "        text-align: right;\n",
       "    }\n",
       "\n",
       "    .dataframe thead th {\n",
       "        text-align: left;\n",
       "    }\n",
       "\n",
       "    .dataframe tbody tr th {\n",
       "        vertical-align: top;\n",
       "    }\n",
       "</style>\n",
       "<table border=\"1\" class=\"dataframe\">\n",
       "  <thead>\n",
       "    <tr style=\"text-align: right;\">\n",
       "      <th></th>\n",
       "      <th>time</th>\n",
       "      <th>lat</th>\n",
       "      <th>lng</th>\n",
       "      <th>height</th>\n",
       "    </tr>\n",
       "  </thead>\n",
       "  <tbody>\n",
       "    <tr>\n",
       "      <th>1</th>\n",
       "      <td>2015-08-20 03:48:24.734</td>\n",
       "      <td>35.014954</td>\n",
       "      <td>32.519606</td>\n",
       "      <td>126.599998</td>\n",
       "    </tr>\n",
       "    <tr>\n",
       "      <th>2</th>\n",
       "      <td>2015-08-20 03:48:25.660</td>\n",
       "      <td>35.014871</td>\n",
       "      <td>32.519612</td>\n",
       "      <td>123.000000</td>\n",
       "    </tr>\n",
       "    <tr>\n",
       "      <th>3</th>\n",
       "      <td>2015-08-20 03:48:26.819</td>\n",
       "      <td>35.014824</td>\n",
       "      <td>32.519654</td>\n",
       "      <td>120.500000</td>\n",
       "    </tr>\n",
       "    <tr>\n",
       "      <th>4</th>\n",
       "      <td>2015-08-20 03:48:27.828</td>\n",
       "      <td>35.014776</td>\n",
       "      <td>32.519689</td>\n",
       "      <td>118.900002</td>\n",
       "    </tr>\n",
       "    <tr>\n",
       "      <th>5</th>\n",
       "      <td>2015-08-20 03:48:29.720</td>\n",
       "      <td>35.014704</td>\n",
       "      <td>32.519691</td>\n",
       "      <td>119.900002</td>\n",
       "    </tr>\n",
       "  </tbody>\n",
       "</table>\n",
       "</div>"
      ],
      "text/plain": [
       "                     time        lat        lng      height\n",
       "1 2015-08-20 03:48:24.734  35.014954  32.519606  126.599998\n",
       "2 2015-08-20 03:48:25.660  35.014871  32.519612  123.000000\n",
       "3 2015-08-20 03:48:26.819  35.014824  32.519654  120.500000\n",
       "4 2015-08-20 03:48:27.828  35.014776  32.519689  118.900002\n",
       "5 2015-08-20 03:48:29.720  35.014704  32.519691  119.900002"
      ]
     },
     "execution_count": 23,
     "metadata": {},
     "output_type": "execute_result"
    }
   ],
   "source": [
    "df.loc[1:5]\n",
    "## Note that unlike usual slices in Python which are half open, in Pandas loc slices return both the start and ending digits."
   ]
  },
  {
   "cell_type": "code",
   "execution_count": 24,
   "metadata": {},
   "outputs": [
    {
     "data": {
      "text/html": [
       "<div>\n",
       "<style>\n",
       "    .dataframe thead tr:only-child th {\n",
       "        text-align: right;\n",
       "    }\n",
       "\n",
       "    .dataframe thead th {\n",
       "        text-align: left;\n",
       "    }\n",
       "\n",
       "    .dataframe tbody tr th {\n",
       "        vertical-align: top;\n",
       "    }\n",
       "</style>\n",
       "<table border=\"1\" class=\"dataframe\">\n",
       "  <thead>\n",
       "    <tr style=\"text-align: right;\">\n",
       "      <th></th>\n",
       "      <th>lat</th>\n",
       "      <th>lng</th>\n",
       "    </tr>\n",
       "  </thead>\n",
       "  <tbody>\n",
       "    <tr>\n",
       "      <th>0</th>\n",
       "      <td>35.015021</td>\n",
       "      <td>32.519585</td>\n",
       "    </tr>\n",
       "    <tr>\n",
       "      <th>1</th>\n",
       "      <td>35.014954</td>\n",
       "      <td>32.519606</td>\n",
       "    </tr>\n",
       "    <tr>\n",
       "      <th>2</th>\n",
       "      <td>35.014871</td>\n",
       "      <td>32.519612</td>\n",
       "    </tr>\n",
       "    <tr>\n",
       "      <th>3</th>\n",
       "      <td>35.014824</td>\n",
       "      <td>32.519654</td>\n",
       "    </tr>\n",
       "    <tr>\n",
       "      <th>4</th>\n",
       "      <td>35.014776</td>\n",
       "      <td>32.519689</td>\n",
       "    </tr>\n",
       "    <tr>\n",
       "      <th>5</th>\n",
       "      <td>35.014704</td>\n",
       "      <td>32.519691</td>\n",
       "    </tr>\n",
       "    <tr>\n",
       "      <th>6</th>\n",
       "      <td>35.014657</td>\n",
       "      <td>32.519734</td>\n",
       "    </tr>\n",
       "    <tr>\n",
       "      <th>7</th>\n",
       "      <td>35.014563</td>\n",
       "      <td>32.519719</td>\n",
       "    </tr>\n",
       "    <tr>\n",
       "      <th>8</th>\n",
       "      <td>35.014549</td>\n",
       "      <td>32.519694</td>\n",
       "    </tr>\n",
       "    <tr>\n",
       "      <th>9</th>\n",
       "      <td>35.014515</td>\n",
       "      <td>32.519625</td>\n",
       "    </tr>\n",
       "    <tr>\n",
       "      <th>10</th>\n",
       "      <td>35.014505</td>\n",
       "      <td>32.519599</td>\n",
       "    </tr>\n",
       "  </tbody>\n",
       "</table>\n",
       "</div>"
      ],
      "text/plain": [
       "          lat        lng\n",
       "0   35.015021  32.519585\n",
       "1   35.014954  32.519606\n",
       "2   35.014871  32.519612\n",
       "3   35.014824  32.519654\n",
       "4   35.014776  32.519689\n",
       "5   35.014704  32.519691\n",
       "6   35.014657  32.519734\n",
       "7   35.014563  32.519719\n",
       "8   35.014549  32.519694\n",
       "9   35.014515  32.519625\n",
       "10  35.014505  32.519599"
      ]
     },
     "execution_count": 24,
     "metadata": {},
     "output_type": "execute_result"
    }
   ],
   "source": [
    "df[['lat', 'lng']].loc[0:10]"
   ]
  },
  {
   "cell_type": "markdown",
   "metadata": {},
   "source": [
    "### Every column is a Pandas series. One of the differences between series and regular Python list is that it has label access called an index. All columns in the data frame share the same index."
   ]
  },
  {
   "cell_type": "code",
   "execution_count": 25,
   "metadata": {},
   "outputs": [
    {
     "data": {
      "text/plain": [
       "RangeIndex(start=0, stop=740, step=1)"
      ]
     },
     "execution_count": 25,
     "metadata": {},
     "output_type": "execute_result"
    }
   ],
   "source": [
    "df.index"
   ]
  },
  {
   "cell_type": "code",
   "execution_count": 26,
   "metadata": {},
   "outputs": [
    {
     "data": {
      "text/html": [
       "<div>\n",
       "<style>\n",
       "    .dataframe thead tr:only-child th {\n",
       "        text-align: right;\n",
       "    }\n",
       "\n",
       "    .dataframe thead th {\n",
       "        text-align: left;\n",
       "    }\n",
       "\n",
       "    .dataframe tbody tr th {\n",
       "        vertical-align: top;\n",
       "    }\n",
       "</style>\n",
       "<table border=\"1\" class=\"dataframe\">\n",
       "  <thead>\n",
       "    <tr style=\"text-align: right;\">\n",
       "      <th></th>\n",
       "      <th>x</th>\n",
       "      <th>y</th>\n",
       "    </tr>\n",
       "  </thead>\n",
       "  <tbody>\n",
       "    <tr>\n",
       "      <th>a</th>\n",
       "      <td>0</td>\n",
       "      <td>1</td>\n",
       "    </tr>\n",
       "    <tr>\n",
       "      <th>b</th>\n",
       "      <td>2</td>\n",
       "      <td>3</td>\n",
       "    </tr>\n",
       "    <tr>\n",
       "      <th>c</th>\n",
       "      <td>4</td>\n",
       "      <td>5</td>\n",
       "    </tr>\n",
       "    <tr>\n",
       "      <th>d</th>\n",
       "      <td>6</td>\n",
       "      <td>7</td>\n",
       "    </tr>\n",
       "    <tr>\n",
       "      <th>e</th>\n",
       "      <td>8</td>\n",
       "      <td>9</td>\n",
       "    </tr>\n",
       "  </tbody>\n",
       "</table>\n",
       "</div>"
      ],
      "text/plain": [
       "   x  y\n",
       "a  0  1\n",
       "b  2  3\n",
       "c  4  5\n",
       "d  6  7\n",
       "e  8  9"
      ]
     },
     "execution_count": 26,
     "metadata": {},
     "output_type": "execute_result"
    }
   ],
   "source": [
    "import numpy as np\n",
    "df1 = pd.DataFrame(np.arange(10).reshape(5,2), columns= ['x' , 'y'], index=['a','b','c','d','e'] )\n",
    "df1"
   ]
  },
  {
   "cell_type": "code",
   "execution_count": 27,
   "metadata": {},
   "outputs": [
    {
     "data": {
      "text/html": [
       "<div>\n",
       "<style>\n",
       "    .dataframe thead tr:only-child th {\n",
       "        text-align: right;\n",
       "    }\n",
       "\n",
       "    .dataframe thead th {\n",
       "        text-align: left;\n",
       "    }\n",
       "\n",
       "    .dataframe tbody tr th {\n",
       "        vertical-align: top;\n",
       "    }\n",
       "</style>\n",
       "<table border=\"1\" class=\"dataframe\">\n",
       "  <thead>\n",
       "    <tr style=\"text-align: right;\">\n",
       "      <th></th>\n",
       "      <th>x</th>\n",
       "      <th>y</th>\n",
       "    </tr>\n",
       "  </thead>\n",
       "  <tbody>\n",
       "    <tr>\n",
       "      <th>a</th>\n",
       "      <td>0</td>\n",
       "      <td>1</td>\n",
       "    </tr>\n",
       "    <tr>\n",
       "      <th>b</th>\n",
       "      <td>2</td>\n",
       "      <td>3</td>\n",
       "    </tr>\n",
       "    <tr>\n",
       "      <th>c</th>\n",
       "      <td>4</td>\n",
       "      <td>5</td>\n",
       "    </tr>\n",
       "  </tbody>\n",
       "</table>\n",
       "</div>"
      ],
      "text/plain": [
       "   x  y\n",
       "a  0  1\n",
       "b  2  3\n",
       "c  4  5"
      ]
     },
     "execution_count": 27,
     "metadata": {},
     "output_type": "execute_result"
    }
   ],
   "source": [
    "#  df1.loc[0] will give an error because Loc works by label.\n",
    "\n",
    "df1.loc['a' : 'c']\n"
   ]
  },
  {
   "cell_type": "markdown",
   "metadata": {},
   "source": [
    "### Index as time stamp"
   ]
  },
  {
   "cell_type": "code",
   "execution_count": 28,
   "metadata": {
    "collapsed": true
   },
   "outputs": [],
   "source": [
    "df.index = df['time']"
   ]
  },
  {
   "cell_type": "code",
   "execution_count": 29,
   "metadata": {},
   "outputs": [
    {
     "data": {
      "text/plain": [
       "DatetimeIndex(['2015-08-20 03:48:07.235000', '2015-08-20 03:48:24.734000',\n",
       "               '2015-08-20 03:48:25.660000', '2015-08-20 03:48:26.819000',\n",
       "               '2015-08-20 03:48:27.828000', '2015-08-20 03:48:29.720000',\n",
       "               '2015-08-20 03:48:30.669000', '2015-08-20 03:48:33.793000',\n",
       "               '2015-08-20 03:48:34.869000', '2015-08-20 03:48:37.708000',\n",
       "               ...\n",
       "               '2015-08-20 04:20:18.844000', '2015-08-20 04:20:21.996000',\n",
       "               '2015-08-20 04:20:22.897000', '2015-08-20 04:20:24.905000',\n",
       "               '2015-08-20 04:20:25.835000', '2015-08-20 04:20:28.982000',\n",
       "               '2015-08-20 04:20:29.923000', '2015-08-20 04:20:32.863000',\n",
       "               '2015-08-20 04:20:33.994000', '2015-08-20 04:20:42.329000'],\n",
       "              dtype='datetime64[ns]', name='time', length=740, freq=None)"
      ]
     },
     "execution_count": 29,
     "metadata": {},
     "output_type": "execute_result"
    }
   ],
   "source": [
    "df.index"
   ]
  },
  {
   "cell_type": "markdown",
   "metadata": {},
   "source": [
    "### df.loc[0] will return an error. We can create a Pandas time stamp object to index. But since Pandas is very pragmatic, it will let us use strings as well."
   ]
  },
  {
   "cell_type": "code",
   "execution_count": 30,
   "metadata": {},
   "outputs": [
    {
     "data": {
      "text/html": [
       "<div>\n",
       "<style>\n",
       "    .dataframe thead tr:only-child th {\n",
       "        text-align: right;\n",
       "    }\n",
       "\n",
       "    .dataframe thead th {\n",
       "        text-align: left;\n",
       "    }\n",
       "\n",
       "    .dataframe tbody tr th {\n",
       "        vertical-align: top;\n",
       "    }\n",
       "</style>\n",
       "<table border=\"1\" class=\"dataframe\">\n",
       "  <thead>\n",
       "    <tr style=\"text-align: right;\">\n",
       "      <th></th>\n",
       "      <th>time</th>\n",
       "      <th>lat</th>\n",
       "      <th>lng</th>\n",
       "      <th>height</th>\n",
       "    </tr>\n",
       "    <tr>\n",
       "      <th>time</th>\n",
       "      <th></th>\n",
       "      <th></th>\n",
       "      <th></th>\n",
       "      <th></th>\n",
       "    </tr>\n",
       "  </thead>\n",
       "  <tbody>\n",
       "    <tr>\n",
       "      <th>2015-08-20 03:48:07.235</th>\n",
       "      <td>2015-08-20 03:48:07.235</td>\n",
       "      <td>35.015021</td>\n",
       "      <td>32.519585</td>\n",
       "      <td>136.199997</td>\n",
       "    </tr>\n",
       "  </tbody>\n",
       "</table>\n",
       "</div>"
      ],
      "text/plain": [
       "                                           time        lat        lng  \\\n",
       "time                                                                    \n",
       "2015-08-20 03:48:07.235 2015-08-20 03:48:07.235  35.015021  32.519585   \n",
       "\n",
       "                             height  \n",
       "time                                 \n",
       "2015-08-20 03:48:07.235  136.199997  "
      ]
     },
     "execution_count": 30,
     "metadata": {},
     "output_type": "execute_result"
    }
   ],
   "source": [
    "df['2015-08-20 03:48:07']"
   ]
  },
  {
   "cell_type": "code",
   "execution_count": 31,
   "metadata": {},
   "outputs": [
    {
     "data": {
      "text/html": [
       "<div>\n",
       "<style>\n",
       "    .dataframe thead tr:only-child th {\n",
       "        text-align: right;\n",
       "    }\n",
       "\n",
       "    .dataframe thead th {\n",
       "        text-align: left;\n",
       "    }\n",
       "\n",
       "    .dataframe tbody tr th {\n",
       "        vertical-align: top;\n",
       "    }\n",
       "</style>\n",
       "<table border=\"1\" class=\"dataframe\">\n",
       "  <thead>\n",
       "    <tr style=\"text-align: right;\">\n",
       "      <th></th>\n",
       "      <th>time</th>\n",
       "      <th>lat</th>\n",
       "      <th>lng</th>\n",
       "      <th>height</th>\n",
       "    </tr>\n",
       "    <tr>\n",
       "      <th>time</th>\n",
       "      <th></th>\n",
       "      <th></th>\n",
       "      <th></th>\n",
       "      <th></th>\n",
       "    </tr>\n",
       "  </thead>\n",
       "  <tbody>\n",
       "    <tr>\n",
       "      <th>2015-08-20 03:48:07.235</th>\n",
       "      <td>2015-08-20 03:48:07.235</td>\n",
       "      <td>35.015021</td>\n",
       "      <td>32.519585</td>\n",
       "      <td>136.199997</td>\n",
       "    </tr>\n",
       "    <tr>\n",
       "      <th>2015-08-20 03:48:24.734</th>\n",
       "      <td>2015-08-20 03:48:24.734</td>\n",
       "      <td>35.014954</td>\n",
       "      <td>32.519606</td>\n",
       "      <td>126.599998</td>\n",
       "    </tr>\n",
       "    <tr>\n",
       "      <th>2015-08-20 03:48:25.660</th>\n",
       "      <td>2015-08-20 03:48:25.660</td>\n",
       "      <td>35.014871</td>\n",
       "      <td>32.519612</td>\n",
       "      <td>123.000000</td>\n",
       "    </tr>\n",
       "    <tr>\n",
       "      <th>2015-08-20 03:48:26.819</th>\n",
       "      <td>2015-08-20 03:48:26.819</td>\n",
       "      <td>35.014824</td>\n",
       "      <td>32.519654</td>\n",
       "      <td>120.500000</td>\n",
       "    </tr>\n",
       "    <tr>\n",
       "      <th>2015-08-20 03:48:27.828</th>\n",
       "      <td>2015-08-20 03:48:27.828</td>\n",
       "      <td>35.014776</td>\n",
       "      <td>32.519689</td>\n",
       "      <td>118.900002</td>\n",
       "    </tr>\n",
       "  </tbody>\n",
       "</table>\n",
       "</div>"
      ],
      "text/plain": [
       "                                           time        lat        lng  \\\n",
       "time                                                                    \n",
       "2015-08-20 03:48:07.235 2015-08-20 03:48:07.235  35.015021  32.519585   \n",
       "2015-08-20 03:48:24.734 2015-08-20 03:48:24.734  35.014954  32.519606   \n",
       "2015-08-20 03:48:25.660 2015-08-20 03:48:25.660  35.014871  32.519612   \n",
       "2015-08-20 03:48:26.819 2015-08-20 03:48:26.819  35.014824  32.519654   \n",
       "2015-08-20 03:48:27.828 2015-08-20 03:48:27.828  35.014776  32.519689   \n",
       "\n",
       "                             height  \n",
       "time                                 \n",
       "2015-08-20 03:48:07.235  136.199997  \n",
       "2015-08-20 03:48:24.734  126.599998  \n",
       "2015-08-20 03:48:25.660  123.000000  \n",
       "2015-08-20 03:48:26.819  120.500000  \n",
       "2015-08-20 03:48:27.828  118.900002  "
      ]
     },
     "execution_count": 31,
     "metadata": {},
     "output_type": "execute_result"
    }
   ],
   "source": [
    "df.head()"
   ]
  },
  {
   "cell_type": "markdown",
   "metadata": {},
   "source": [
    "### These times are in UTC\n",
    "### Fix the time\n",
    "#### In Python, there are two kinds of daytime object. Known as timestamps in Pandas. Naive daytime does not have time zone information associated with it and aware daytime does have time zone information associated with it. Pandas starts with naive timestamps so we need to make them aware first to convert to the right time zone. All of the time zone information is found in the pytz module. It is not in the standard library but is installed as part of Pandas installation. Note that you need to reinstall pytz about every three months since time zone definition changes."
   ]
  },
  {
   "cell_type": "code",
   "execution_count": 32,
   "metadata": {
    "collapsed": true
   },
   "outputs": [],
   "source": [
    "import pytz"
   ]
  },
  {
   "cell_type": "code",
   "execution_count": 33,
   "metadata": {
    "collapsed": true
   },
   "outputs": [],
   "source": [
    "ts = df.index[0]"
   ]
  },
  {
   "cell_type": "code",
   "execution_count": 34,
   "metadata": {},
   "outputs": [
    {
     "data": {
      "text/plain": [
       "Timestamp('2015-08-20 03:48:07.235000')"
      ]
     },
     "execution_count": 34,
     "metadata": {},
     "output_type": "execute_result"
    }
   ],
   "source": [
    "ts"
   ]
  },
  {
   "cell_type": "code",
   "execution_count": 35,
   "metadata": {},
   "outputs": [
    {
     "data": {
      "text/plain": [
       "Timestamp('2015-08-20 03:48:07.235000+0000', tz='UTC')"
      ]
     },
     "execution_count": 35,
     "metadata": {},
     "output_type": "execute_result"
    }
   ],
   "source": [
    "ts.tz_localize(pytz.UTC)"
   ]
  },
  {
   "cell_type": "code",
   "execution_count": 36,
   "metadata": {},
   "outputs": [
    {
     "data": {
      "text/plain": [
       "Timestamp('2015-08-20 06:48:07.235000+0300', tz='Asia/Jerusalem')"
      ]
     },
     "execution_count": 36,
     "metadata": {},
     "output_type": "execute_result"
    }
   ],
   "source": [
    "ts.tz_localize(pytz.UTC).tz_convert(pytz.timezone('Asia/Jerusalem'))"
   ]
  },
  {
   "cell_type": "code",
   "execution_count": 37,
   "metadata": {
    "collapsed": true
   },
   "outputs": [],
   "source": [
    "df.index = df.index.tz_localize(pytz.UTC).tz_convert(pytz.timezone('Asia/Jerusalem'))"
   ]
  },
  {
   "cell_type": "markdown",
   "metadata": {},
   "source": [
    "# Use Pure Python Packages"
   ]
  },
  {
   "cell_type": "code",
   "execution_count": 38,
   "metadata": {},
   "outputs": [
    {
     "data": {
      "text/plain": [
       "'C:\\\\Users\\\\abhishek\\\\Documents'"
      ]
     },
     "execution_count": 38,
     "metadata": {},
     "output_type": "execute_result"
    }
   ],
   "source": [
    "% pwd"
   ]
  },
  {
   "cell_type": "code",
   "execution_count": 39,
   "metadata": {
    "collapsed": true
   },
   "outputs": [],
   "source": [
    "import geo"
   ]
  },
  {
   "cell_type": "code",
   "execution_count": 40,
   "metadata": {
    "collapsed": true
   },
   "outputs": [],
   "source": [
    "import sys"
   ]
  },
  {
   "cell_type": "code",
   "execution_count": 41,
   "metadata": {},
   "outputs": [
    {
     "data": {
      "text/plain": [
       "['',\n",
       " 'C:\\\\Users\\\\abhishek\\\\Anaconda2\\\\envs\\\\track_1\\\\python36.zip',\n",
       " 'C:\\\\Users\\\\abhishek\\\\Anaconda2\\\\envs\\\\track_1\\\\DLLs',\n",
       " 'C:\\\\Users\\\\abhishek\\\\Anaconda2\\\\envs\\\\track_1\\\\lib',\n",
       " 'C:\\\\Users\\\\abhishek\\\\Anaconda2\\\\envs\\\\track_1',\n",
       " 'C:\\\\Users\\\\abhishek\\\\Anaconda2\\\\envs\\\\track_1\\\\lib\\\\site-packages',\n",
       " 'C:\\\\Users\\\\abhishek\\\\Anaconda2\\\\envs\\\\track_1\\\\lib\\\\site-packages\\\\cycler-0.10.0-py3.6.egg',\n",
       " 'C:\\\\Users\\\\abhishek\\\\Anaconda2\\\\envs\\\\track_1\\\\lib\\\\site-packages\\\\IPython\\\\extensions',\n",
       " 'C:\\\\Users\\\\abhishek\\\\.ipython']"
      ]
     },
     "execution_count": 41,
     "metadata": {},
     "output_type": "execute_result"
    }
   ],
   "source": [
    "sys.path"
   ]
  },
  {
   "cell_type": "markdown",
   "metadata": {},
   "source": [
    "###  If you get an import error this means that geo.py is not located in one of the directories that Python is looking for models in. You can view this list by running the following code. We'll import sys and look at sys.path. As long is geo.py is in one of these directories you should be fine."
   ]
  },
  {
   "cell_type": "code",
   "execution_count": 42,
   "metadata": {
    "collapsed": true
   },
   "outputs": [],
   "source": [
    "?? geo"
   ]
  },
  {
   "cell_type": "code",
   "execution_count": 43,
   "metadata": {
    "collapsed": true
   },
   "outputs": [],
   "source": [
    "from geo import circle_dist"
   ]
  },
  {
   "cell_type": "code",
   "execution_count": 44,
   "metadata": {},
   "outputs": [
    {
     "data": {
      "text/plain": [
       "Index(['time', 'lat', 'lng', 'height'], dtype='object')"
      ]
     },
     "execution_count": 44,
     "metadata": {},
     "output_type": "execute_result"
    }
   ],
   "source": [
    "df.columns"
   ]
  },
  {
   "cell_type": "code",
   "execution_count": 45,
   "metadata": {
    "collapsed": true
   },
   "outputs": [],
   "source": [
    "lat1, lng1 = df.iloc[0].lat, df.iloc[0].lng\n",
    "lat2, lng2 = df.iloc[1].lat, df.iloc[1].lng"
   ]
  },
  {
   "cell_type": "code",
   "execution_count": 46,
   "metadata": {},
   "outputs": [
    {
     "data": {
      "text/plain": [
       "0.0076939315353441087"
      ]
     },
     "execution_count": 46,
     "metadata": {},
     "output_type": "execute_result"
    }
   ],
   "source": [
    "circle_dist(lat1,lng1,lat2,lng2)"
   ]
  },
  {
   "cell_type": "markdown",
   "metadata": {},
   "source": [
    "# Calculate Speed"
   ]
  },
  {
   "cell_type": "code",
   "execution_count": 47,
   "metadata": {
    "collapsed": true
   },
   "outputs": [],
   "source": [
    "##We now have a function that can calculate distances and we also have time information. \n",
    "#That's all the information we need to calculate speed. Let's ask why calculating the \n",
    "#distances between all the points. In regular Python, we'll use a for loop. But in Pandas, \n",
    "#and in scientific Python in general, we try not to use for loops since they are slower \n",
    "#than using Vector operations. Since we're using NumPy U functions circle_dist it means \n",
    "#we can use it on hall erase. However, we need pairs of points. And for that we're going to use the shift method."
   ]
  },
  {
   "cell_type": "code",
   "execution_count": 48,
   "metadata": {
    "collapsed": true
   },
   "outputs": [],
   "source": [
    "s = pd.Series(np.arange(5))"
   ]
  },
  {
   "cell_type": "code",
   "execution_count": 49,
   "metadata": {},
   "outputs": [
    {
     "data": {
      "text/plain": [
       "0    0\n",
       "1    1\n",
       "2    2\n",
       "3    3\n",
       "4    4\n",
       "dtype: int32"
      ]
     },
     "execution_count": 49,
     "metadata": {},
     "output_type": "execute_result"
    }
   ],
   "source": [
    "s"
   ]
  },
  {
   "cell_type": "code",
   "execution_count": 50,
   "metadata": {},
   "outputs": [
    {
     "data": {
      "text/plain": [
       "0    NaN\n",
       "1    0.0\n",
       "2    1.0\n",
       "3    2.0\n",
       "4    3.0\n",
       "dtype: float64"
      ]
     },
     "execution_count": 50,
     "metadata": {},
     "output_type": "execute_result"
    }
   ],
   "source": [
    "s.shift()"
   ]
  },
  {
   "cell_type": "code",
   "execution_count": 51,
   "metadata": {},
   "outputs": [
    {
     "data": {
      "text/plain": [
       "0    1.0\n",
       "1    2.0\n",
       "2    3.0\n",
       "3    4.0\n",
       "4    NaN\n",
       "dtype: float64"
      ]
     },
     "execution_count": 51,
     "metadata": {},
     "output_type": "execute_result"
    }
   ],
   "source": [
    "s.shift(-1)"
   ]
  },
  {
   "cell_type": "code",
   "execution_count": 52,
   "metadata": {
    "collapsed": true
   },
   "outputs": [],
   "source": [
    "dist = circle_dist(df['lat'],df['lng'],df['lat'].shift(),df['lng'].shift())"
   ]
  },
  {
   "cell_type": "code",
   "execution_count": 53,
   "metadata": {},
   "outputs": [
    {
     "data": {
      "text/plain": [
       "0.0026162842041802894"
      ]
     },
     "execution_count": 53,
     "metadata": {},
     "output_type": "execute_result"
    }
   ],
   "source": [
    "dist[10]"
   ]
  },
  {
   "cell_type": "code",
   "execution_count": 54,
   "metadata": {},
   "outputs": [
    {
     "data": {
      "text/plain": [
       "time\n",
       "2015-08-20 06:48:07.235000+03:00         NaN\n",
       "2015-08-20 06:48:24.734000+03:00    0.007694\n",
       "2015-08-20 06:48:25.660000+03:00    0.009248\n",
       "2015-08-20 06:48:26.819000+03:00    0.006479\n",
       "2015-08-20 06:48:27.828000+03:00    0.006219\n",
       "2015-08-20 06:48:29.720000+03:00    0.008010\n",
       "2015-08-20 06:48:30.669000+03:00    0.006533\n",
       "2015-08-20 06:48:33.793000+03:00    0.010545\n",
       "2015-08-20 06:48:34.869000+03:00    0.002759\n",
       "2015-08-20 06:48:37.708000+03:00    0.007336\n",
       "dtype: float64"
      ]
     },
     "execution_count": 54,
     "metadata": {},
     "output_type": "execute_result"
    }
   ],
   "source": [
    "dist[0:10]"
   ]
  },
  {
   "cell_type": "code",
   "execution_count": 55,
   "metadata": {},
   "outputs": [
    {
     "data": {
      "text/plain": [
       "4.6881359684325679"
      ]
     },
     "execution_count": 55,
     "metadata": {},
     "output_type": "execute_result"
    }
   ],
   "source": [
    "dist.sum()"
   ]
  },
  {
   "cell_type": "code",
   "execution_count": 56,
   "metadata": {
    "collapsed": true
   },
   "outputs": [],
   "source": [
    "dt = df['time'] - df['time'].shift()"
   ]
  },
  {
   "cell_type": "code",
   "execution_count": 57,
   "metadata": {},
   "outputs": [
    {
     "data": {
      "text/plain": [
       "time\n",
       "2015-08-20 06:48:07.235000+03:00               NaT\n",
       "2015-08-20 06:48:24.734000+03:00   00:00:17.499000\n",
       "2015-08-20 06:48:25.660000+03:00   00:00:00.926000\n",
       "2015-08-20 06:48:26.819000+03:00   00:00:01.159000\n",
       "2015-08-20 06:48:27.828000+03:00   00:00:01.009000\n",
       "2015-08-20 06:48:29.720000+03:00   00:00:01.892000\n",
       "2015-08-20 06:48:30.669000+03:00   00:00:00.949000\n",
       "2015-08-20 06:48:33.793000+03:00   00:00:03.124000\n",
       "2015-08-20 06:48:34.869000+03:00   00:00:01.076000\n",
       "2015-08-20 06:48:37.708000+03:00   00:00:02.839000\n",
       "Name: time, dtype: timedelta64[ns]"
      ]
     },
     "execution_count": 57,
     "metadata": {},
     "output_type": "execute_result"
    }
   ],
   "source": [
    "dt[0:10]"
   ]
  },
  {
   "cell_type": "code",
   "execution_count": 58,
   "metadata": {},
   "outputs": [
    {
     "data": {
      "text/plain": [
       "Timedelta('0 days 00:32:35.094000')"
      ]
     },
     "execution_count": 58,
     "metadata": {},
     "output_type": "execute_result"
    }
   ],
   "source": [
    "dt.sum()"
   ]
  },
  {
   "cell_type": "code",
   "execution_count": 59,
   "metadata": {
    "collapsed": true
   },
   "outputs": [],
   "source": [
    "# dist / dt ---------- TypeError: ufunc true_divide cannot use operands with types dtype('float64') and dtype('<m8[ns]')"
   ]
  },
  {
   "cell_type": "markdown",
   "metadata": {},
   "source": [
    "#### Python does not know how to divide the float which is a distance by Pandas time delta object. We have a couple of options here. One is to calculate how many seconds are in a time delta using total seconds method. Let's take a look. So, dt one total seconds. However, this will give us kilometers per second and we'd like kilometers per hour. We can of course, multiply by 3600. Or this becomes a bit complex. "
   ]
  },
  {
   "cell_type": "code",
   "execution_count": 60,
   "metadata": {},
   "outputs": [
    {
     "data": {
      "text/plain": [
       "17.499000000000002"
      ]
     },
     "execution_count": 60,
     "metadata": {},
     "output_type": "execute_result"
    }
   ],
   "source": [
    "dt[1].total_seconds()"
   ]
  },
  {
   "cell_type": "markdown",
   "metadata": {},
   "source": [
    "#### The other way which I prefer is to use NumPy time delta 64. When you divide a Pandas time delta, with NumPy's time delta 64, you'll get scalar. The good thing here, is that you can tell NumPy time delta 64 what you need to apply. So, dt one divided by np.timedelta64 one hour. We say both unit and quantity which gives us a lot of control."
   ]
  },
  {
   "cell_type": "code",
   "execution_count": 61,
   "metadata": {},
   "outputs": [
    {
     "data": {
      "text/plain": [
       "0.0048608333333333333"
      ]
     },
     "execution_count": 61,
     "metadata": {},
     "output_type": "execute_result"
    }
   ],
   "source": [
    "dt[1] / np.timedelta64(1, 'h')"
   ]
  },
  {
   "cell_type": "code",
   "execution_count": 62,
   "metadata": {},
   "outputs": [
    {
     "data": {
      "text/plain": [
       "0.004860833333333334"
      ]
     },
     "execution_count": 62,
     "metadata": {},
     "output_type": "execute_result"
    }
   ],
   "source": [
    "dt[1].total_seconds()/3600"
   ]
  },
  {
   "cell_type": "code",
   "execution_count": 63,
   "metadata": {
    "collapsed": true
   },
   "outputs": [],
   "source": [
    "speed = dist / (dt / np.timedelta64(1, 'h'))"
   ]
  },
  {
   "cell_type": "code",
   "execution_count": 64,
   "metadata": {},
   "outputs": [
    {
     "data": {
      "text/plain": [
       "time\n",
       "2015-08-20 06:48:07.235000+03:00          NaN\n",
       "2015-08-20 06:48:24.734000+03:00     1.582842\n",
       "2015-08-20 06:48:25.660000+03:00    35.954340\n",
       "2015-08-20 06:48:26.819000+03:00    20.123165\n",
       "2015-08-20 06:48:27.828000+03:00    22.187213\n",
       "2015-08-20 06:48:29.720000+03:00    15.241680\n",
       "2015-08-20 06:48:30.669000+03:00    24.783839\n",
       "2015-08-20 06:48:33.793000+03:00    12.151207\n",
       "2015-08-20 06:48:34.869000+03:00     9.230505\n",
       "2015-08-20 06:48:37.708000+03:00     9.302060\n",
       "dtype: float64"
      ]
     },
     "execution_count": 64,
     "metadata": {},
     "output_type": "execute_result"
    }
   ],
   "source": [
    "speed[:10]"
   ]
  },
  {
   "cell_type": "markdown",
   "metadata": {},
   "source": [
    "### We see a lot of variance here. This is due to the fact that measurements are very close to each other. Let's resample the data to be in one minute intervals. We'll start by adding columns to the data frame before we resample it. df.dist equal to dist and df dt equal to dt. Now let's resample. When resampling, we need to tell Pandas what to do with all the values that fall in the same bean of time."
   ]
  },
  {
   "cell_type": "code",
   "execution_count": 65,
   "metadata": {
    "collapsed": true
   },
   "outputs": [],
   "source": [
    "df['dist'] = dist\n",
    "df['dt'] = dt"
   ]
  },
  {
   "cell_type": "code",
   "execution_count": 66,
   "metadata": {
    "collapsed": true
   },
   "outputs": [],
   "source": [
    "df1m = df.resample('1min').sum()"
   ]
  },
  {
   "cell_type": "code",
   "execution_count": 67,
   "metadata": {},
   "outputs": [
    {
     "data": {
      "text/html": [
       "<div>\n",
       "<style>\n",
       "    .dataframe thead tr:only-child th {\n",
       "        text-align: right;\n",
       "    }\n",
       "\n",
       "    .dataframe thead th {\n",
       "        text-align: left;\n",
       "    }\n",
       "\n",
       "    .dataframe tbody tr th {\n",
       "        vertical-align: top;\n",
       "    }\n",
       "</style>\n",
       "<table border=\"1\" class=\"dataframe\">\n",
       "  <thead>\n",
       "    <tr style=\"text-align: right;\">\n",
       "      <th></th>\n",
       "      <th>lat</th>\n",
       "      <th>lng</th>\n",
       "      <th>height</th>\n",
       "      <th>dist</th>\n",
       "    </tr>\n",
       "    <tr>\n",
       "      <th>time</th>\n",
       "      <th></th>\n",
       "      <th></th>\n",
       "      <th></th>\n",
       "      <th></th>\n",
       "    </tr>\n",
       "  </thead>\n",
       "  <tbody>\n",
       "    <tr>\n",
       "      <th>2015-08-20 06:48:00+03:00</th>\n",
       "      <td>735.305982</td>\n",
       "      <td>682.909176</td>\n",
       "      <td>2578.099991</td>\n",
       "      <td>0.118358</td>\n",
       "    </tr>\n",
       "    <tr>\n",
       "      <th>2015-08-20 06:49:00+03:00</th>\n",
       "      <td>105.042949</td>\n",
       "      <td>97.556914</td>\n",
       "      <td>368.900002</td>\n",
       "      <td>0.017011</td>\n",
       "    </tr>\n",
       "    <tr>\n",
       "      <th>2015-08-20 06:50:00+03:00</th>\n",
       "      <td>805.323270</td>\n",
       "      <td>747.896930</td>\n",
       "      <td>2635.199989</td>\n",
       "      <td>0.278882</td>\n",
       "    </tr>\n",
       "    <tr>\n",
       "      <th>2015-08-20 06:51:00+03:00</th>\n",
       "      <td>1050.415915</td>\n",
       "      <td>975.487935</td>\n",
       "      <td>3199.600014</td>\n",
       "      <td>0.170449</td>\n",
       "    </tr>\n",
       "    <tr>\n",
       "      <th>2015-08-20 06:52:00+03:00</th>\n",
       "      <td>1050.382332</td>\n",
       "      <td>975.454219</td>\n",
       "      <td>2931.299995</td>\n",
       "      <td>0.171142</td>\n",
       "    </tr>\n",
       "    <tr>\n",
       "      <th>2015-08-20 06:53:00+03:00</th>\n",
       "      <td>560.211849</td>\n",
       "      <td>520.224758</td>\n",
       "      <td>1669.299988</td>\n",
       "      <td>0.159013</td>\n",
       "    </tr>\n",
       "    <tr>\n",
       "      <th>2015-08-20 06:54:00+03:00</th>\n",
       "      <td>1050.370751</td>\n",
       "      <td>975.401436</td>\n",
       "      <td>2946.999992</td>\n",
       "      <td>0.183703</td>\n",
       "    </tr>\n",
       "    <tr>\n",
       "      <th>2015-08-20 06:55:00+03:00</th>\n",
       "      <td>980.302707</td>\n",
       "      <td>910.358275</td>\n",
       "      <td>2441.100006</td>\n",
       "      <td>0.178537</td>\n",
       "    </tr>\n",
       "    <tr>\n",
       "      <th>2015-08-20 06:56:00+03:00</th>\n",
       "      <td>525.144978</td>\n",
       "      <td>487.685615</td>\n",
       "      <td>1239.100006</td>\n",
       "      <td>0.089231</td>\n",
       "    </tr>\n",
       "    <tr>\n",
       "      <th>2015-08-20 06:57:00+03:00</th>\n",
       "      <td>630.175160</td>\n",
       "      <td>585.203880</td>\n",
       "      <td>1591.400002</td>\n",
       "      <td>0.167219</td>\n",
       "    </tr>\n",
       "  </tbody>\n",
       "</table>\n",
       "</div>"
      ],
      "text/plain": [
       "                                   lat         lng       height      dist\n",
       "time                                                                     \n",
       "2015-08-20 06:48:00+03:00   735.305982  682.909176  2578.099991  0.118358\n",
       "2015-08-20 06:49:00+03:00   105.042949   97.556914   368.900002  0.017011\n",
       "2015-08-20 06:50:00+03:00   805.323270  747.896930  2635.199989  0.278882\n",
       "2015-08-20 06:51:00+03:00  1050.415915  975.487935  3199.600014  0.170449\n",
       "2015-08-20 06:52:00+03:00  1050.382332  975.454219  2931.299995  0.171142\n",
       "2015-08-20 06:53:00+03:00   560.211849  520.224758  1669.299988  0.159013\n",
       "2015-08-20 06:54:00+03:00  1050.370751  975.401436  2946.999992  0.183703\n",
       "2015-08-20 06:55:00+03:00   980.302707  910.358275  2441.100006  0.178537\n",
       "2015-08-20 06:56:00+03:00   525.144978  487.685615  1239.100006  0.089231\n",
       "2015-08-20 06:57:00+03:00   630.175160  585.203880  1591.400002  0.167219"
      ]
     },
     "execution_count": 67,
     "metadata": {},
     "output_type": "execute_result"
    }
   ],
   "source": [
    "df1m[:10]"
   ]
  },
  {
   "cell_type": "markdown",
   "metadata": {},
   "source": [
    "#### We see lat, long, height, dist but we don't see the delta time. The reason is, that some works only on scalars. Let's make this work. We'll convert the dt column to bean scalar units. So dt divided by mp.timedelta64 of one hour."
   ]
  },
  {
   "cell_type": "code",
   "execution_count": 68,
   "metadata": {
    "collapsed": true
   },
   "outputs": [],
   "source": [
    "df['dt'] = dt / np.timedelta64(1, 'h')"
   ]
  },
  {
   "cell_type": "code",
   "execution_count": 69,
   "metadata": {
    "collapsed": true
   },
   "outputs": [],
   "source": [
    "df1m = df.resample('1min').sum()"
   ]
  },
  {
   "cell_type": "code",
   "execution_count": 70,
   "metadata": {},
   "outputs": [
    {
     "data": {
      "text/html": [
       "<div>\n",
       "<style>\n",
       "    .dataframe thead tr:only-child th {\n",
       "        text-align: right;\n",
       "    }\n",
       "\n",
       "    .dataframe thead th {\n",
       "        text-align: left;\n",
       "    }\n",
       "\n",
       "    .dataframe tbody tr th {\n",
       "        vertical-align: top;\n",
       "    }\n",
       "</style>\n",
       "<table border=\"1\" class=\"dataframe\">\n",
       "  <thead>\n",
       "    <tr style=\"text-align: right;\">\n",
       "      <th></th>\n",
       "      <th>lat</th>\n",
       "      <th>lng</th>\n",
       "      <th>height</th>\n",
       "      <th>dist</th>\n",
       "      <th>dt</th>\n",
       "    </tr>\n",
       "    <tr>\n",
       "      <th>time</th>\n",
       "      <th></th>\n",
       "      <th></th>\n",
       "      <th></th>\n",
       "      <th></th>\n",
       "      <th></th>\n",
       "    </tr>\n",
       "  </thead>\n",
       "  <tbody>\n",
       "    <tr>\n",
       "      <th>2015-08-20 06:48:00+03:00</th>\n",
       "      <td>735.305982</td>\n",
       "      <td>682.909176</td>\n",
       "      <td>2578.099991</td>\n",
       "      <td>0.118358</td>\n",
       "      <td>0.014563</td>\n",
       "    </tr>\n",
       "    <tr>\n",
       "      <th>2015-08-20 06:49:00+03:00</th>\n",
       "      <td>105.042949</td>\n",
       "      <td>97.556914</td>\n",
       "      <td>368.900002</td>\n",
       "      <td>0.017011</td>\n",
       "      <td>0.002244</td>\n",
       "    </tr>\n",
       "    <tr>\n",
       "      <th>2015-08-20 06:50:00+03:00</th>\n",
       "      <td>805.323270</td>\n",
       "      <td>747.896930</td>\n",
       "      <td>2635.199989</td>\n",
       "      <td>0.278882</td>\n",
       "      <td>0.030552</td>\n",
       "    </tr>\n",
       "    <tr>\n",
       "      <th>2015-08-20 06:51:00+03:00</th>\n",
       "      <td>1050.415915</td>\n",
       "      <td>975.487935</td>\n",
       "      <td>3199.600014</td>\n",
       "      <td>0.170449</td>\n",
       "      <td>0.016677</td>\n",
       "    </tr>\n",
       "    <tr>\n",
       "      <th>2015-08-20 06:52:00+03:00</th>\n",
       "      <td>1050.382332</td>\n",
       "      <td>975.454219</td>\n",
       "      <td>2931.299995</td>\n",
       "      <td>0.171142</td>\n",
       "      <td>0.016921</td>\n",
       "    </tr>\n",
       "    <tr>\n",
       "      <th>2015-08-20 06:53:00+03:00</th>\n",
       "      <td>560.211849</td>\n",
       "      <td>520.224758</td>\n",
       "      <td>1669.299988</td>\n",
       "      <td>0.159013</td>\n",
       "      <td>0.016414</td>\n",
       "    </tr>\n",
       "    <tr>\n",
       "      <th>2015-08-20 06:54:00+03:00</th>\n",
       "      <td>1050.370751</td>\n",
       "      <td>975.401436</td>\n",
       "      <td>2946.999992</td>\n",
       "      <td>0.183703</td>\n",
       "      <td>0.016921</td>\n",
       "    </tr>\n",
       "    <tr>\n",
       "      <th>2015-08-20 06:55:00+03:00</th>\n",
       "      <td>980.302707</td>\n",
       "      <td>910.358275</td>\n",
       "      <td>2441.100006</td>\n",
       "      <td>0.178537</td>\n",
       "      <td>0.016391</td>\n",
       "    </tr>\n",
       "    <tr>\n",
       "      <th>2015-08-20 06:56:00+03:00</th>\n",
       "      <td>525.144978</td>\n",
       "      <td>487.685615</td>\n",
       "      <td>1239.100006</td>\n",
       "      <td>0.089231</td>\n",
       "      <td>0.008688</td>\n",
       "    </tr>\n",
       "    <tr>\n",
       "      <th>2015-08-20 06:57:00+03:00</th>\n",
       "      <td>630.175160</td>\n",
       "      <td>585.203880</td>\n",
       "      <td>1591.400002</td>\n",
       "      <td>0.167219</td>\n",
       "      <td>0.025224</td>\n",
       "    </tr>\n",
       "  </tbody>\n",
       "</table>\n",
       "</div>"
      ],
      "text/plain": [
       "                                   lat         lng       height      dist  \\\n",
       "time                                                                        \n",
       "2015-08-20 06:48:00+03:00   735.305982  682.909176  2578.099991  0.118358   \n",
       "2015-08-20 06:49:00+03:00   105.042949   97.556914   368.900002  0.017011   \n",
       "2015-08-20 06:50:00+03:00   805.323270  747.896930  2635.199989  0.278882   \n",
       "2015-08-20 06:51:00+03:00  1050.415915  975.487935  3199.600014  0.170449   \n",
       "2015-08-20 06:52:00+03:00  1050.382332  975.454219  2931.299995  0.171142   \n",
       "2015-08-20 06:53:00+03:00   560.211849  520.224758  1669.299988  0.159013   \n",
       "2015-08-20 06:54:00+03:00  1050.370751  975.401436  2946.999992  0.183703   \n",
       "2015-08-20 06:55:00+03:00   980.302707  910.358275  2441.100006  0.178537   \n",
       "2015-08-20 06:56:00+03:00   525.144978  487.685615  1239.100006  0.089231   \n",
       "2015-08-20 06:57:00+03:00   630.175160  585.203880  1591.400002  0.167219   \n",
       "\n",
       "                                 dt  \n",
       "time                                 \n",
       "2015-08-20 06:48:00+03:00  0.014563  \n",
       "2015-08-20 06:49:00+03:00  0.002244  \n",
       "2015-08-20 06:50:00+03:00  0.030552  \n",
       "2015-08-20 06:51:00+03:00  0.016677  \n",
       "2015-08-20 06:52:00+03:00  0.016921  \n",
       "2015-08-20 06:53:00+03:00  0.016414  \n",
       "2015-08-20 06:54:00+03:00  0.016921  \n",
       "2015-08-20 06:55:00+03:00  0.016391  \n",
       "2015-08-20 06:56:00+03:00  0.008688  \n",
       "2015-08-20 06:57:00+03:00  0.025224  "
      ]
     },
     "execution_count": 70,
     "metadata": {},
     "output_type": "execute_result"
    }
   ],
   "source": [
    "df1m[:10]"
   ]
  },
  {
   "cell_type": "code",
   "execution_count": 71,
   "metadata": {
    "collapsed": true
   },
   "outputs": [],
   "source": [
    "speed1m = df1m['dist'] / df1m['dt']"
   ]
  },
  {
   "cell_type": "code",
   "execution_count": 72,
   "metadata": {},
   "outputs": [
    {
     "data": {
      "text/plain": [
       "time\n",
       "2015-08-20 06:48:00+03:00     8.127118\n",
       "2015-08-20 06:49:00+03:00     7.579874\n",
       "2015-08-20 06:50:00+03:00     9.127972\n",
       "2015-08-20 06:51:00+03:00    10.220818\n",
       "2015-08-20 06:52:00+03:00    10.114279\n",
       "2015-08-20 06:53:00+03:00     9.687690\n",
       "2015-08-20 06:54:00+03:00    10.856446\n",
       "2015-08-20 06:55:00+03:00    10.892145\n",
       "2015-08-20 06:56:00+03:00    10.270580\n",
       "2015-08-20 06:57:00+03:00     6.629397\n",
       "Freq: T, dtype: float64"
      ]
     },
     "execution_count": 72,
     "metadata": {},
     "output_type": "execute_result"
    }
   ],
   "source": [
    "speed1m[:10]"
   ]
  },
  {
   "cell_type": "markdown",
   "metadata": {
    "collapsed": true
   },
   "source": [
    "# Display a Speed Box Plot"
   ]
  },
  {
   "cell_type": "code",
   "execution_count": 73,
   "metadata": {},
   "outputs": [
    {
     "data": {
      "text/plain": [
       "count    33.000000\n",
       "mean      8.658214\n",
       "std       1.543214\n",
       "min       5.285595\n",
       "25%       7.543402\n",
       "50%       8.538120\n",
       "75%      10.220818\n",
       "max      10.892145\n",
       "dtype: float64"
      ]
     },
     "execution_count": 73,
     "metadata": {},
     "output_type": "execute_result"
    }
   ],
   "source": [
    "speed1m.describe()"
   ]
  },
  {
   "cell_type": "code",
   "execution_count": 74,
   "metadata": {
    "collapsed": true
   },
   "outputs": [],
   "source": [
    "% matplotlib inline"
   ]
  },
  {
   "cell_type": "code",
   "execution_count": 75,
   "metadata": {},
   "outputs": [
    {
     "data": {
      "text/plain": [
       "<matplotlib.axes._subplots.AxesSubplot at 0x1ddc9a82f28>"
      ]
     },
     "execution_count": 75,
     "metadata": {},
     "output_type": "execute_result"
    },
    {
     "data": {
      "image/png": "[encoded data removed]",
      "text/plain": [
       "<matplotlib.figure.Figure at 0x1ddc92b3748>"
      ]
     },
     "metadata": {},
     "output_type": "display_data"
    }
   ],
   "source": [
    "speed1m.plot()"
   ]
  },
  {
   "cell_type": "code",
   "execution_count": 76,
   "metadata": {
    "collapsed": true
   },
   "outputs": [],
   "source": [
    "import matplotlib.pyplot as plt"
   ]
  },
  {
   "cell_type": "code",
   "execution_count": 77,
   "metadata": {
    "collapsed": true
   },
   "outputs": [],
   "source": [
    "plt.rcParams['figure.figsize'] = (10,6)"
   ]
  },
  {
   "cell_type": "code",
   "execution_count": 78,
   "metadata": {
    "collapsed": true
   },
   "outputs": [],
   "source": [
    "plt.style.use('seaborn-whitegrid')"
   ]
  },
  {
   "cell_type": "code",
   "execution_count": 79,
   "metadata": {},
   "outputs": [
    {
     "data": {
      "text/plain": [
       "<matplotlib.axes._subplots.AxesSubplot at 0x1ddc9cd9828>"
      ]
     },
     "execution_count": 79,
     "metadata": {},
     "output_type": "execute_result"
    },
    {
     "data": {
      "image/png": "[encoded data removed]",
      "text/plain": [
       "<matplotlib.figure.Figure at 0x1ddc9cdef60>"
      ]
     },
     "metadata": {},
     "output_type": "display_data"
    }
   ],
   "source": [
    "speed1m.plot()"
   ]
  },
  {
   "cell_type": "code",
   "execution_count": 80,
   "metadata": {},
   "outputs": [
    {
     "data": {
      "text/plain": [
       "<matplotlib.axes._subplots.AxesSubplot at 0x1ddc9d3b940>"
      ]
     },
     "execution_count": 80,
     "metadata": {},
     "output_type": "execute_result"
    },
    {
     "data": {
      "image/png": "[encoded data removed]",
      "text/plain": [
       "<matplotlib.figure.Figure at 0x1ddc9d90320>"
      ]
     },
     "metadata": {},
     "output_type": "display_data"
    }
   ],
   "source": [
    "speed1m.plot.box()"
   ]
  },
  {
   "cell_type": "markdown",
   "metadata": {
    "collapsed": true
   },
   "source": [
    "# Folium and Geo"
   ]
  },
  {
   "cell_type": "code",
   "execution_count": 81,
   "metadata": {
    "collapsed": true
   },
   "outputs": [],
   "source": [
    "import folium"
   ]
  },
  {
   "cell_type": "markdown",
   "metadata": {},
   "source": [
    "# Draw a track on map"
   ]
  },
  {
   "cell_type": "code",
   "execution_count": 82,
   "metadata": {},
   "outputs": [
    {
     "data": {
      "text/html": [
       "<div style=\"width:100%;\"><div style=\"position:relative;width:100%;height:0;padding-bottom:60%;\"><iframe src=\"data:text/html;charset=utf-8;base64,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\" style=\"position:absolute;width:100%;height:100%;left:0;top:0;border:none !important;\" allowfullscreen webkitallowfullscreen mozallowfullscreen></iframe></div></div>"
      ],
      "text/plain": [
       "<folium.folium.Map at 0x1ddca7cbfd0>"
      ]
     },
     "execution_count": 82,
     "metadata": {},
     "output_type": "execute_result"
    }
   ],
   "source": [
    "m = folium.Map(location=[df['lng'].mean(), df['lat'].mean()], zoom_start=15)\n",
    "mdf = df.resample('T').mean()\n",
    "\n",
    "def add_marker(row):\n",
    "    marker = folium.CircleMarker([row['lng'], row['lat']], radius = 5, color = 'black', popup=row.name.strftime('%H:%M'))\n",
    "    marker.add_to(m)\n",
    "\n",
    "mdf.apply(add_marker, axis=1)\n",
    "m"
   ]
  },
  {
   "cell_type": "markdown",
   "metadata": {},
   "source": [
    "##### Now let's draw to track on the map. We start by placing one simple marker. I'll go back to the same code here, and then I'll pick a row. Row = df.iloc 321, and then, the marker is folium.CircleMarker, and the location will be row of longitude and row.latitude. In the final step, we need to tell the marker \"add to the map\", and display.\n",
    "\n",
    "##### That's a really big marker. Let's try something a bit smaller. So, we'll go back to the code, and let's say the radius is 5, and run it again. If you look now, we have a marker here in the middle. We can do some styling. For example, we can say that color = red, and then run it, and now our marker has a red color. Another nice thing we can do is add a pop up. So, again, we'll go here and we'll say \"popup = 'Hi There'\", and run.\n",
    "\n",
    "##### Now when we click on our marker, we will see the popup. There are several styles of markers in Folium, and the popup can be any HTML. Check out the folium documentation for more details. Now that we know how to place one marker on a map, let's throw the entire track on the map. For this, we'll create a utility function that gets data frame row and adds the marker from the data in this row. So, we go back to the code, and we would write \"def add_marker of row\" and then we will do this code inside the function.\n",
    "\n",
    "##### Let's test our function on a single row. So, add marker of row, and run. We see that the marker is drawn on the map. Now, let's add the time as a popup for the marker. So, instead of doing a fixed string, we'll use row time, and run. Then we'll get an error. This failed since the marker expects popup as a string or a Vega object.\n",
    "\n",
    "##### I wont' go into Vega, which is a language to specify visual elements. You can see some examples in the Folium documentation. You're going to use plain strings here. To convert a time stamp to a string, we'll use the strftime method. So, here, strftime, and percent H colon percent M, and run it. This time, it worked, and if we click on the marker, we'll see the hour. You can see the available format for the strftime in the Python documentation.\n",
    "\n",
    "##### Once we have our function working to our satisfaction for one row, let's run it on all of them using the data frame apply method. So, we'll delete this one and we say \"df.apply, add marker\", and we say \"axis = one\", and delete this line. When we say \"axis = one\", we tell pandas to run the function on each row as opposed to each column. Let's run this.\n",
    "\n",
    "##### This took a while to run, and the markers overlap. We need less data points to do this, and we're going to re-sample the data. So, what I'm going to do here, is say that \"mdf is the data frame re-sample to T, which is one minute. Then, we'll take the mean. We're going to use the mean function since it makes sense to take the average of the location inside the one minute span. Now, we're going to do mdf.apply instead of df.apply to run the function only on the data frame with one minute intervals.\n",
    "\n",
    "##### This failed since when we re-sampled the data, we lost the time column. We look at mdf.columns, we see that the time is not there. The reason is that pandas can not average on time stamps. To fix this, we're going to use the row index, which is also the time stamp associated with this row. The row index is accessible using the name attribute. So, let's go here, and instead of row and time, we'll say \"row.name strftime\", and run.\n",
    "\n",
    "##### This looks much better. This work flow is very typical with visualization. You need to do some iteration until you get a good one. To get a great one, you need to invest more time tweaking it, but for now I think we are good. As an exercise, try to figure out how to display the time in local time, and not in units."
   ]
  },
  {
   "cell_type": "code",
   "execution_count": 83,
   "metadata": {},
   "outputs": [
    {
     "data": {
      "text/plain": [
       "Index(['lat', 'lng', 'height', 'dist', 'dt'], dtype='object')"
      ]
     },
     "execution_count": 83,
     "metadata": {},
     "output_type": "execute_result"
    }
   ],
   "source": [
    "mdf.columns"
   ]
  },
  {
   "cell_type": "code",
   "execution_count": 84,
   "metadata": {
    "collapsed": true
   },
   "outputs": [],
   "source": [
    "from shapely.geometry import Point, Polygon"
   ]
  },
  {
   "cell_type": "code",
   "execution_count": 85,
   "metadata": {},
   "outputs": [
    {
     "data": {
      "image/svg+xml": [
       "<svg xmlns=\"http://www.w3.org/2000/svg\" xmlns:xlink=\"http://www.w3.org/1999/xlink\" width=\"100.0\" height=\"100.0\" viewBox=\"0.0 1.0 2.0 2.0\" preserveAspectRatio=\"xMinYMin meet\"><g transform=\"matrix(1,0,0,-1,0,4.0)\"><circle cx=\"1.0\" cy=\"2.0\" r=\"0.06\" stroke=\"#555555\" stroke-width=\"0.02\" fill=\"#66cc99\" opacity=\"0.6\" /></g></svg>"
      ],
      "text/plain": [
       "<shapely.geometry.point.Point at 0x1ddca9b0978>"
      ]
     },
     "execution_count": 85,
     "metadata": {},
     "output_type": "execute_result"
    }
   ],
   "source": [
    "pt = Point(1,2)\n",
    "pt"
   ]
  },
  {
   "cell_type": "code",
   "execution_count": 86,
   "metadata": {},
   "outputs": [
    {
     "data": {
      "text/plain": [
       "1.0"
      ]
     },
     "execution_count": 86,
     "metadata": {},
     "output_type": "execute_result"
    }
   ],
   "source": [
    "pt.x"
   ]
  },
  {
   "cell_type": "code",
   "execution_count": 87,
   "metadata": {},
   "outputs": [
    {
     "data": {
      "image/svg+xml": [
       "<svg xmlns=\"http://www.w3.org/2000/svg\" xmlns:xlink=\"http://www.w3.org/1999/xlink\" width=\"100.0\" height=\"100.0\" viewBox=\"-0.4 -0.4 10.8 10.8\" preserveAspectRatio=\"xMinYMin meet\"><g transform=\"matrix(1,0,0,-1,0,10.0)\"><path fill-rule=\"evenodd\" fill=\"#66cc99\" stroke=\"#555555\" stroke-width=\"0.21600000000000003\" opacity=\"0.6\" d=\"M 0.0,0.0 L 0.0,10.0 L 10.0,10.0 L 10.0,0.0 L 0.0,0.0 z\" /></g></svg>"
      ],
      "text/plain": [
       "<shapely.geometry.polygon.Polygon at 0x1ddca9d2a20>"
      ]
     },
     "execution_count": 87,
     "metadata": {},
     "output_type": "execute_result"
    }
   ],
   "source": [
    "poly = Polygon([[0,0],[0,10],[10,10],[10,0]])\n",
    "poly"
   ]
  },
  {
   "cell_type": "code",
   "execution_count": 88,
   "metadata": {},
   "outputs": [
    {
     "data": {
      "text/plain": [
       "100.0"
      ]
     },
     "execution_count": 88,
     "metadata": {},
     "output_type": "execute_result"
    }
   ],
   "source": [
    "poly.area"
   ]
  },
  {
   "cell_type": "code",
   "execution_count": 89,
   "metadata": {},
   "outputs": [
    {
     "data": {
      "image/svg+xml": [
       "<svg xmlns=\"http://www.w3.org/2000/svg\" xmlns:xlink=\"http://www.w3.org/1999/xlink\" width=\"100.0\" height=\"100.0\" viewBox=\"4.0 4.0 2.0 2.0\" preserveAspectRatio=\"xMinYMin meet\"><g transform=\"matrix(1,0,0,-1,0,10.0)\"><circle cx=\"5.0\" cy=\"5.0\" r=\"0.06\" stroke=\"#555555\" stroke-width=\"0.02\" fill=\"#66cc99\" opacity=\"0.6\" /></g></svg>"
      ],
      "text/plain": [
       "<shapely.geometry.point.Point at 0x1ddca9d2780>"
      ]
     },
     "execution_count": 89,
     "metadata": {},
     "output_type": "execute_result"
    }
   ],
   "source": [
    "poly.centroid"
   ]
  },
  {
   "cell_type": "code",
   "execution_count": 90,
   "metadata": {},
   "outputs": [
    {
     "data": {
      "text/plain": [
       "(array('d', [5.0]), array('d', [5.0]))"
      ]
     },
     "execution_count": 90,
     "metadata": {},
     "output_type": "execute_result"
    }
   ],
   "source": [
    "poly.centroid.xy"
   ]
  },
  {
   "cell_type": "code",
   "execution_count": 91,
   "metadata": {},
   "outputs": [
    {
     "data": {
      "text/plain": [
       "array([[  0.,   0.],\n",
       "       [  0.,  10.],\n",
       "       [ 10.,  10.],\n",
       "       [ 10.,   0.],\n",
       "       [  0.,   0.]])"
      ]
     },
     "execution_count": 91,
     "metadata": {},
     "output_type": "execute_result"
    }
   ],
   "source": [
    "np.stack(poly.exterior.xy).T"
   ]
  },
  {
   "cell_type": "code",
   "execution_count": 92,
   "metadata": {},
   "outputs": [
    {
     "data": {
      "text/plain": [
       "True"
      ]
     },
     "execution_count": 92,
     "metadata": {},
     "output_type": "execute_result"
    }
   ],
   "source": [
    "poly.intersects(pt)"
   ]
  },
  {
   "cell_type": "code",
   "execution_count": 93,
   "metadata": {},
   "outputs": [
    {
     "data": {
      "text/plain": [
       "False"
      ]
     },
     "execution_count": 93,
     "metadata": {},
     "output_type": "execute_result"
    }
   ],
   "source": [
    "poly.intersects(Point(10,20))"
   ]
  },
  {
   "cell_type": "markdown",
   "metadata": {},
   "source": [
    "### The plan is to create a column of points in our data frame. You find an area and color points that are in that area in a different color."
   ]
  },
  {
   "cell_type": "code",
   "execution_count": 94,
   "metadata": {
    "collapsed": true
   },
   "outputs": [],
   "source": [
    "mdf['pt'] = mdf[['lng', 'lat']].apply(Point, axis=1)"
   ]
  },
  {
   "cell_type": "code",
   "execution_count": 95,
   "metadata": {},
   "outputs": [
    {
     "data": {
      "text/html": [
       "<div>\n",
       "<style>\n",
       "    .dataframe thead tr:only-child th {\n",
       "        text-align: right;\n",
       "    }\n",
       "\n",
       "    .dataframe thead th {\n",
       "        text-align: left;\n",
       "    }\n",
       "\n",
       "    .dataframe tbody tr th {\n",
       "        vertical-align: top;\n",
       "    }\n",
       "</style>\n",
       "<table border=\"1\" class=\"dataframe\">\n",
       "  <thead>\n",
       "    <tr style=\"text-align: right;\">\n",
       "      <th></th>\n",
       "      <th>lat</th>\n",
       "      <th>lng</th>\n",
       "      <th>height</th>\n",
       "      <th>dist</th>\n",
       "      <th>dt</th>\n",
       "      <th>pt</th>\n",
       "    </tr>\n",
       "    <tr>\n",
       "      <th>time</th>\n",
       "      <th></th>\n",
       "      <th></th>\n",
       "      <th></th>\n",
       "      <th></th>\n",
       "      <th></th>\n",
       "      <th></th>\n",
       "    </tr>\n",
       "  </thead>\n",
       "  <tbody>\n",
       "    <tr>\n",
       "      <th>2015-08-20 06:48:00+03:00</th>\n",
       "      <td>35.014571</td>\n",
       "      <td>32.519485</td>\n",
       "      <td>122.766666</td>\n",
       "      <td>0.005918</td>\n",
       "      <td>0.000728</td>\n",
       "      <td>POINT (32.51948457142857 35.01457057142857)</td>\n",
       "    </tr>\n",
       "    <tr>\n",
       "      <th>2015-08-20 06:49:00+03:00</th>\n",
       "      <td>35.014316</td>\n",
       "      <td>32.518971</td>\n",
       "      <td>122.966667</td>\n",
       "      <td>0.005670</td>\n",
       "      <td>0.000748</td>\n",
       "      <td>POINT (32.51897133333333 35.01431633333333)</td>\n",
       "    </tr>\n",
       "    <tr>\n",
       "      <th>2015-08-20 06:50:00+03:00</th>\n",
       "      <td>35.014055</td>\n",
       "      <td>32.517258</td>\n",
       "      <td>114.573913</td>\n",
       "      <td>0.012125</td>\n",
       "      <td>0.001328</td>\n",
       "      <td>POINT (32.51725782608695 35.0140552173913)</td>\n",
       "    </tr>\n",
       "    <tr>\n",
       "      <th>2015-08-20 06:51:00+03:00</th>\n",
       "      <td>35.013864</td>\n",
       "      <td>32.516264</td>\n",
       "      <td>106.653334</td>\n",
       "      <td>0.005682</td>\n",
       "      <td>0.000556</td>\n",
       "      <td>POINT (32.5162645 35.01386383333332)</td>\n",
       "    </tr>\n",
       "    <tr>\n",
       "      <th>2015-08-20 06:52:00+03:00</th>\n",
       "      <td>35.012744</td>\n",
       "      <td>32.515141</td>\n",
       "      <td>97.710000</td>\n",
       "      <td>0.005705</td>\n",
       "      <td>0.000564</td>\n",
       "      <td>POINT (32.51514063333333 35.0127444)</td>\n",
       "    </tr>\n",
       "  </tbody>\n",
       "</table>\n",
       "</div>"
      ],
      "text/plain": [
       "                                 lat        lng      height      dist  \\\n",
       "time                                                                    \n",
       "2015-08-20 06:48:00+03:00  35.014571  32.519485  122.766666  0.005918   \n",
       "2015-08-20 06:49:00+03:00  35.014316  32.518971  122.966667  0.005670   \n",
       "2015-08-20 06:50:00+03:00  35.014055  32.517258  114.573913  0.012125   \n",
       "2015-08-20 06:51:00+03:00  35.013864  32.516264  106.653334  0.005682   \n",
       "2015-08-20 06:52:00+03:00  35.012744  32.515141   97.710000  0.005705   \n",
       "\n",
       "                                 dt  \\\n",
       "time                                  \n",
       "2015-08-20 06:48:00+03:00  0.000728   \n",
       "2015-08-20 06:49:00+03:00  0.000748   \n",
       "2015-08-20 06:50:00+03:00  0.001328   \n",
       "2015-08-20 06:51:00+03:00  0.000556   \n",
       "2015-08-20 06:52:00+03:00  0.000564   \n",
       "\n",
       "                                                                    pt  \n",
       "time                                                                    \n",
       "2015-08-20 06:48:00+03:00  POINT (32.51948457142857 35.01457057142857)  \n",
       "2015-08-20 06:49:00+03:00  POINT (32.51897133333333 35.01431633333333)  \n",
       "2015-08-20 06:50:00+03:00   POINT (32.51725782608695 35.0140552173913)  \n",
       "2015-08-20 06:51:00+03:00         POINT (32.5162645 35.01386383333332)  \n",
       "2015-08-20 06:52:00+03:00         POINT (32.51514063333333 35.0127444)  "
      ]
     },
     "execution_count": 95,
     "metadata": {},
     "output_type": "execute_result"
    }
   ],
   "source": [
    "mdf.head()"
   ]
  },
  {
   "cell_type": "code",
   "execution_count": 96,
   "metadata": {
    "collapsed": true
   },
   "outputs": [],
   "source": [
    "mean_lng, max_lng = mdf['lng'].mean(), mdf['lng'].max()\n",
    "mean_lat, max_lat = mdf['lat'].mean(), mdf['lat'].max()"
   ]
  },
  {
   "cell_type": "code",
   "execution_count": 97,
   "metadata": {
    "collapsed": true
   },
   "outputs": [],
   "source": [
    "poly = Polygon([\n",
    "        [mean_lng, mean_lat],\n",
    "        [mean_lng, max_lat],\n",
    "        [max_lng, max_lat],\n",
    "        [max_lng, mean_lat]\n",
    "\n",
    "])"
   ]
  },
  {
   "cell_type": "code",
   "execution_count": 98,
   "metadata": {},
   "outputs": [
    {
     "data": {
      "image/svg+xml": [
       "<svg xmlns=\"http://www.w3.org/2000/svg\" xmlns:xlink=\"http://www.w3.org/1999/xlink\" width=\"100.0\" height=\"100.0\" viewBox=\"32.512032371671836 35.01539144505746 0.007738822824300939 0.00742293991487486\" preserveAspectRatio=\"xMinYMin meet\"><g transform=\"matrix(1,0,0,-1,0,70.0382058300298)\"><path fill-rule=\"evenodd\" fill=\"#66cc99\" stroke=\"#555555\" stroke-width=\"0.0001547764564860188\" opacity=\"0.6\" d=\"M 32.5123189947394,35.01567806812503 L 32.5123189947394,35.02252776190477 L 32.51948457142857,35.02252776190477 L 32.51948457142857,35.01567806812503 L 32.5123189947394,35.01567806812503 z\" /></g></svg>"
      ],
      "text/plain": [
       "<shapely.geometry.polygon.Polygon at 0x1ddca9e6c88>"
      ]
     },
     "execution_count": 98,
     "metadata": {},
     "output_type": "execute_result"
    }
   ],
   "source": [
    "poly"
   ]
  },
  {
   "cell_type": "code",
   "execution_count": 99,
   "metadata": {},
   "outputs": [
    {
     "data": {
      "text/plain": [
       "(array('d', [32.5123189947394, 32.5123189947394, 32.51948457142857, 32.51948457142857, 32.5123189947394]),\n",
       " array('d', [35.01567806812503, 35.02252776190477, 35.02252776190477, 35.01567806812503, 35.01567806812503]))"
      ]
     },
     "execution_count": 99,
     "metadata": {},
     "output_type": "execute_result"
    }
   ],
   "source": [
    "poly.exterior.xy"
   ]
  },
  {
   "cell_type": "markdown",
   "metadata": {},
   "source": [
    "##### This is a bit tricky since folium expects a series of longitude-latitude values. If you ask the polygon for its exterior, we'll get two arrays. So, the polygon dot exterior dot xy. And we see we get two arrays. We're going to do some shape shifting here. This is quite common and lucky for us, numpy makes it easy. First we're going to mesh the two arrays together with numpy dot stack. Numpy dot stack takes two arrays and places one on top of the other. So let's import numpy, import numpy as np."
   ]
  },
  {
   "cell_type": "code",
   "execution_count": 100,
   "metadata": {
    "collapsed": true
   },
   "outputs": [],
   "source": [
    "import numpy as np"
   ]
  },
  {
   "cell_type": "code",
   "execution_count": 101,
   "metadata": {},
   "outputs": [
    {
     "data": {
      "text/plain": [
       "array([[ 32.51231899,  32.51231899,  32.51948457,  32.51948457,\n",
       "         32.51231899],\n",
       "       [ 35.01567807,  35.02252776,  35.02252776,  35.01567807,\n",
       "         35.01567807]])"
      ]
     },
     "execution_count": 101,
     "metadata": {},
     "output_type": "execute_result"
    }
   ],
   "source": [
    "np.stack(poly.exterior.xy)"
   ]
  },
  {
   "cell_type": "markdown",
   "metadata": {},
   "source": [
    "### And this is almost what we want. We just like to rotate the array by 90 degrees to get the pair of coordinates per row."
   ]
  },
  {
   "cell_type": "code",
   "execution_count": 102,
   "metadata": {},
   "outputs": [
    {
     "data": {
      "text/plain": [
       "array([[ 32.51231899,  35.01567807],\n",
       "       [ 32.51231899,  35.02252776],\n",
       "       [ 32.51948457,  35.02252776],\n",
       "       [ 32.51948457,  35.01567807],\n",
       "       [ 32.51231899,  35.01567807]])"
      ]
     },
     "execution_count": 102,
     "metadata": {},
     "output_type": "execute_result"
    }
   ],
   "source": [
    "np.stack(poly.exterior.xy).T"
   ]
  },
  {
   "cell_type": "code",
   "execution_count": null,
   "metadata": {
    "scrolled": true
   },
   "outputs": [],
   "source": []
  },
  {
   "cell_type": "markdown",
   "metadata": {},
   "source": [
    "# Generate a Report "
   ]
  },
  {
   "cell_type": "markdown",
   "metadata": {},
   "source": [
    "##### Now that we have our report ready, we can publish it. It's usually a good idea to tidy up our reports before publishing them. I'm going to skip this part, but feel free to add Markdown cells for documentation, delete intermediate cells, and cells with error in them. Make sure to re-run the notebook after all the changes. There are several options to publish reports. One is to place the notebook file somewhere public, like in a GitHub repository, and have the nbviewer service render it. This is the nbviewer service. And let's take a look, for example, at Non-Parametric Regression, which is hosted on a public list.\n",
    "\n",
    "##### And we see that it's rendered by the nbviewer. When we use the nbviewer, we can just distribute the URL. However, some reports might be internal, and we'd like to publish them only to a small set of people. The easy way here, is to generate HTML from the notebook. To do this, click on the file menu, go to Download As, and select HTML. Let's click on the file. We see that the generated HTML includes everything we did, including the charts, and including a fully functional map that we can still use, move around, and zoom.\n",
    "\n",
    "##### Sometimes we'd like to automate the generation of these reports. Say, run such a notebook every night, and produce some statistics about last day's traffic. There is a utility called npconvert, which renders the notebook to an HTML. It's installed when we intall Jupyter notebook. Let's switch the terminal, or command shell, on Windows. And I'll write jupyter nbcnvert track.ipynb, and this is going to convert and generate the HTML. Note that we did not run any code, it just rendered the ipynb file as HTML.\n",
    "\n",
    "##### If you'd like to run the code as well, we need to pass the dash dash execute switch to nbconvert. This will do the equivalent of cell run all, before rendering the HTML. Since we have cells with errors in our notebook, we need to delete these cells before running the notebook. So let's get back to the notebook. Any cells with errors. Let's have a look. This cell has an error, so we are going to use the scissors to cut it down. This cell also has errors, so we'll use the scissors.\n",
    "\n",
    "##### Here's another one. And we made all these errors during the learning process to show some points, but in the final report, we don't want to see them. Alright, let's save, and get back to the shell. Now we are going to execute our notebook. But before we do that, we need to switch to our conda environment so we'll have all the installed packages ready for us. To do that, we're going to do source activate and track, and this will bring us to our track environment.\n",
    "\n",
    "##### And you see that the prompt has changed. On Windows, you do the same command without the source at the beginning. And now we're going to run jupyter nbconvert dash dash execute track.ipynb. And notice this takes longer now. In our case, every time it executes the code, we'll get the same answer. In some reports, we'd like to run the code with different parameters. There are two main ways to do it. One is for time-based reports, starting from now, and then query a database for yesterday data.\n",
    "\n",
    "##### The other option is to pass parameters to the notebook using environment variables. This is a super-easy way to generate automatic reports. Once the HTML is generated, you can automatically email it, or copy it to a web server. Python makes these tasks easy as well."
   ]
  },
  {
   "cell_type": "code",
   "execution_count": null,
   "metadata": {
    "collapsed": true
   },
   "outputs": [],
   "source": []
  },
  {
   "cell_type": "code",
   "execution_count": null,
   "metadata": {
    "collapsed": true
   },
   "outputs": [],
   "source": []
  }
 ],
 "metadata": {
  "kernelspec": {
   "display_name": "Python 2",
   "language": "python",
   "name": "python2"
  },
  "language_info": {
   "codemirror_mode": {
    "name": "ipython",
    "version": 2
   },
   "file_extension": ".py",
   "mimetype": "text/x-python",
   "name": "python",
   "nbconvert_exporter": "python",
   "pygments_lexer": "ipython2",
   "version": "2.7.13"
  }
 },
 "nbformat": 4,
 "nbformat_minor": 2
}
